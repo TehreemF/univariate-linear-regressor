{
  "nbformat": 4,
  "nbformat_minor": 0,
  "metadata": {
    "colab": {
      "name": "lab02_208550_Tehreem Farooqi.ipynb",
      "provenance": [],
      "collapsed_sections": []
    },
    "kernelspec": {
      "name": "python3",
      "display_name": "Python 3"
    }
  },
  "cells": [
    {
      "cell_type": "code",
      "metadata": {
        "id": "DvcEkIE89_3X",
        "colab": {
          "base_uri": "https://localhost:8080/",
          "height": 592
        },
        "outputId": "91c6dac0-13d2-4283-d1e9-89338d4386d6"
      },
      "source": [
        "import numpy as np\n",
        "import matplotlib.pyplot as plt\n",
        "from math import sqrt\n",
        "\n",
        "#Generate values for x and y using numpy\n",
        "def generate_data_set(init_seed):\n",
        "  np.random.seed(init_seed)\n",
        "  x = np.random.rand(100, 1)\n",
        "  y = 2 + 3 * x + np.random.rand(100, 1)\n",
        "  return x, y\n",
        "\n",
        "def rmse(y_predicted, y_actual):\n",
        "  # Calculate root mean squared error\n",
        "\tsum_error = 0.0\n",
        "\tfor i in range(len(y_actual)):\n",
        "\t\tprediction_error = y_predicted[i] - y_actual[i]\n",
        "\t\tsum_error += (prediction_error ** 2)\n",
        "\tmean_error = sum_error / float(len(y_actual))\n",
        "\treturn sqrt(mean_error)\n",
        "\n",
        "#calculating cost based on linear regression formula\n",
        "def  cal_cost(theta,X,y):\n",
        "  predictions = X.dot(theta)\n",
        "  cost = (1/2*m) * np.sum(np.square(predictions-y))\n",
        "  return cost\n",
        "\n",
        "#implementing formula of Gradient Descent\n",
        "def fit_GD(x, y, alpha, n_iterations):\n",
        "  m = len(y)\n",
        "  cost_history = np.zeros(n_iterations)\n",
        "  #predicting theta 1 and theta 0 on random values\n",
        "  theta = np.random.randn(2,1)\n",
        "  #creating an array of theta and filling it with 0s\n",
        "  theta_history = np.zeros((n_iterations,2))\n",
        "\n",
        "  for it in range(n_iterations):  \n",
        "    prediction = np.dot(x,theta)    \n",
        "    theta = theta -(1/m)*alpha*( x.T.dot((prediction - y)))\n",
        "    theta_history[it,:] =theta.T\n",
        "    cost_history[it]  = cal_cost(theta,x,y)\n",
        "        \n",
        "  return  theta_history, cost_history, theta, prediction\n",
        "\n",
        "x, y = generate_data_set(0)\n",
        "\n",
        "m = len(y)\n",
        "x_train = np.c_[np.ones((m, 1)), x]\n",
        "# fit/train the model\n",
        "w, cost_history, theta, pred  = fit_GD(x_train, y, 0.05, 1000)\n",
        "i=0\n",
        "w_new = []\n",
        "iterations = []\n",
        "while i < len(w):\n",
        "  iterations.append(i)\n",
        "  i=i+1\n",
        "\n",
        "plt.scatter(iterations, cost_history, s=10)\n",
        "plt.xlabel('iterations')\n",
        "plt.ylabel('cost')\n",
        "plt.show()\n",
        "\n",
        "print(\"Values of Theta: \", theta)\n",
        "\n",
        "error = rmse(pred, y)\n",
        "\n",
        "print(\"RMSE = \", error)\n",
        "\n",
        "plt.scatter(x, y, s=10)\n",
        "plt.plot(x, pred, color='red', linewidth=3)\n",
        "plt.xlabel('x')\n",
        "plt.ylabel('y')\n",
        "plt.show()"
      ],
      "execution_count": null,
      "outputs": [
        {
          "output_type": "display_data",
          "data": {
            "image/png": "[encoded data removed]",
            "text/plain": [
              "<Figure size 432x288 with 1 Axes>"
            ]
          },
          "metadata": {
            "tags": []
          }
        },
        {
          "output_type": "stream",
          "text": [
            "Values of Theta:  [[2.60425564]\n",
            " [2.84543431]]\n",
            "RMSE =  0.27737630220016085\n"
          ],
          "name": "stdout"
        },
        {
          "output_type": "display_data",
          "data": {
            "image/png": "[encoded data removed]",
            "text/plain": [
              "<Figure size 432x288 with 1 Axes>"
            ]
          },
          "metadata": {
            "tags": []
          }
        }
      ]
    }
  ]
}